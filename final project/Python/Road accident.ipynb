{
 "cells": [
  {
   "cell_type": "code",
   "execution_count": 26,
   "id": "81a596fb",
   "metadata": {},
   "outputs": [],
   "source": [
    "import pandas as pd\n"
   ]
  },
  {
   "cell_type": "code",
   "execution_count": 27,
   "id": "0f8b6122",
   "metadata": {},
   "outputs": [],
   "source": [
    "d=pd.read_csv(r\"C:\\Users\\divya\\Downloads\\final project\\sql\\rad.csv\")"
   ]
  },
  {
   "cell_type": "code",
   "execution_count": 28,
   "id": "41d3a529",
   "metadata": {},
   "outputs": [
    {
     "data": {
      "text/html": [
       "<div>\n",
       "<style scoped>\n",
       "    .dataframe tbody tr th:only-of-type {\n",
       "        vertical-align: middle;\n",
       "    }\n",
       "\n",
       "    .dataframe tbody tr th {\n",
       "        vertical-align: top;\n",
       "    }\n",
       "\n",
       "    .dataframe thead th {\n",
       "        text-align: right;\n",
       "    }\n",
       "</style>\n",
       "<table border=\"1\" class=\"dataframe\">\n",
       "  <thead>\n",
       "    <tr style=\"text-align: right;\">\n",
       "      <th></th>\n",
       "      <th>accident_index</th>\n",
       "      <th>accident_date</th>\n",
       "      <th>day_of_week</th>\n",
       "      <th>junction_control</th>\n",
       "      <th>junction_detail</th>\n",
       "      <th>accident_severity</th>\n",
       "      <th>light_conditions</th>\n",
       "      <th>local_authority</th>\n",
       "      <th>carriageway_hazards</th>\n",
       "      <th>number_of_casualties</th>\n",
       "      <th>number_of_vehicles</th>\n",
       "      <th>police_force</th>\n",
       "      <th>road_surface_conditions</th>\n",
       "      <th>road_type</th>\n",
       "      <th>speed_limit</th>\n",
       "      <th>time</th>\n",
       "      <th>urban_or_rural_area</th>\n",
       "      <th>weather_conditions</th>\n",
       "      <th>vehicle_type</th>\n",
       "    </tr>\n",
       "  </thead>\n",
       "  <tbody>\n",
       "    <tr>\n",
       "      <th>0</th>\n",
       "      <td>BS0000001</td>\n",
       "      <td>01-01-2021</td>\n",
       "      <td>Thursday</td>\n",
       "      <td>Give way or uncontrolled</td>\n",
       "      <td>T or staggered junction</td>\n",
       "      <td>Serious</td>\n",
       "      <td>Daylight</td>\n",
       "      <td>Kensington and Chelsea</td>\n",
       "      <td>None</td>\n",
       "      <td>1</td>\n",
       "      <td>2</td>\n",
       "      <td>Metropolitan Police</td>\n",
       "      <td>Dry</td>\n",
       "      <td>One way street</td>\n",
       "      <td>30</td>\n",
       "      <td>15:11</td>\n",
       "      <td>Urban</td>\n",
       "      <td>Fine no high winds</td>\n",
       "      <td>Car</td>\n",
       "    </tr>\n",
       "    <tr>\n",
       "      <th>1</th>\n",
       "      <td>BS0000002</td>\n",
       "      <td>05-01-2021</td>\n",
       "      <td>Monday</td>\n",
       "      <td>Give way or uncontrolled</td>\n",
       "      <td>Crossroads</td>\n",
       "      <td>Serious</td>\n",
       "      <td>Daylight</td>\n",
       "      <td>Kensington and Chelsea</td>\n",
       "      <td>None</td>\n",
       "      <td>11</td>\n",
       "      <td>2</td>\n",
       "      <td>Metropolitan Police</td>\n",
       "      <td>Wet or damp</td>\n",
       "      <td>Single carriageway</td>\n",
       "      <td>30</td>\n",
       "      <td>10:59</td>\n",
       "      <td>Urban</td>\n",
       "      <td>Fine no high winds</td>\n",
       "      <td>Taxi/Private hire car</td>\n",
       "    </tr>\n",
       "    <tr>\n",
       "      <th>2</th>\n",
       "      <td>BS0000003</td>\n",
       "      <td>04-01-2021</td>\n",
       "      <td>Sunday</td>\n",
       "      <td>Give way or uncontrolled</td>\n",
       "      <td>T or staggered junction</td>\n",
       "      <td>Slight</td>\n",
       "      <td>Daylight</td>\n",
       "      <td>Kensington and Chelsea</td>\n",
       "      <td>None</td>\n",
       "      <td>1</td>\n",
       "      <td>2</td>\n",
       "      <td>Metropolitan Police</td>\n",
       "      <td>Dry</td>\n",
       "      <td>Single carriageway</td>\n",
       "      <td>30</td>\n",
       "      <td>14:19</td>\n",
       "      <td>Urban</td>\n",
       "      <td>Fine no high winds</td>\n",
       "      <td>Taxi/Private hire car</td>\n",
       "    </tr>\n",
       "    <tr>\n",
       "      <th>3</th>\n",
       "      <td>BS0000004</td>\n",
       "      <td>05-01-2021</td>\n",
       "      <td>Monday</td>\n",
       "      <td>Auto traffic signal</td>\n",
       "      <td>T or staggered junction</td>\n",
       "      <td>Serious</td>\n",
       "      <td>Daylight</td>\n",
       "      <td>Kensington and Chelsea</td>\n",
       "      <td>None</td>\n",
       "      <td>1</td>\n",
       "      <td>2</td>\n",
       "      <td>Metropolitan Police</td>\n",
       "      <td>Frost or ice</td>\n",
       "      <td>Single carriageway</td>\n",
       "      <td>30</td>\n",
       "      <td>08:10</td>\n",
       "      <td>Urban</td>\n",
       "      <td>Other</td>\n",
       "      <td>Motorcycle over 500cc</td>\n",
       "    </tr>\n",
       "    <tr>\n",
       "      <th>4</th>\n",
       "      <td>BS0000005</td>\n",
       "      <td>06-01-2021</td>\n",
       "      <td>Tuesday</td>\n",
       "      <td>Auto traffic signal</td>\n",
       "      <td>Crossroads</td>\n",
       "      <td>Serious</td>\n",
       "      <td>Darkness - lights lit</td>\n",
       "      <td>Kensington and Chelsea</td>\n",
       "      <td>None</td>\n",
       "      <td>1</td>\n",
       "      <td>2</td>\n",
       "      <td>Metropolitan Police</td>\n",
       "      <td>Dry</td>\n",
       "      <td>Single carriageway</td>\n",
       "      <td>30</td>\n",
       "      <td>17:25</td>\n",
       "      <td>Urban</td>\n",
       "      <td>Fine no high winds</td>\n",
       "      <td>Car</td>\n",
       "    </tr>\n",
       "    <tr>\n",
       "      <th>...</th>\n",
       "      <td>...</td>\n",
       "      <td>...</td>\n",
       "      <td>...</td>\n",
       "      <td>...</td>\n",
       "      <td>...</td>\n",
       "      <td>...</td>\n",
       "      <td>...</td>\n",
       "      <td>...</td>\n",
       "      <td>...</td>\n",
       "      <td>...</td>\n",
       "      <td>...</td>\n",
       "      <td>...</td>\n",
       "      <td>...</td>\n",
       "      <td>...</td>\n",
       "      <td>...</td>\n",
       "      <td>...</td>\n",
       "      <td>...</td>\n",
       "      <td>...</td>\n",
       "      <td>...</td>\n",
       "    </tr>\n",
       "    <tr>\n",
       "      <th>307968</th>\n",
       "      <td>BS0307969</td>\n",
       "      <td>18-02-2022</td>\n",
       "      <td>Thursday</td>\n",
       "      <td>Data missing or out of range</td>\n",
       "      <td>Not at junction or within 20 metres</td>\n",
       "      <td>Slight</td>\n",
       "      <td>Daylight</td>\n",
       "      <td>Highland</td>\n",
       "      <td>None</td>\n",
       "      <td>2</td>\n",
       "      <td>1</td>\n",
       "      <td>Northern</td>\n",
       "      <td>Dry</td>\n",
       "      <td>Single carriageway</td>\n",
       "      <td>60</td>\n",
       "      <td>07:00</td>\n",
       "      <td>Rural</td>\n",
       "      <td>Fine no high winds</td>\n",
       "      <td>Car</td>\n",
       "    </tr>\n",
       "    <tr>\n",
       "      <th>307969</th>\n",
       "      <td>BS0307970</td>\n",
       "      <td>21-02-2022</td>\n",
       "      <td>Sunday</td>\n",
       "      <td>Data missing or out of range</td>\n",
       "      <td>Not at junction or within 20 metres</td>\n",
       "      <td>Slight</td>\n",
       "      <td>Darkness - no lighting</td>\n",
       "      <td>Highland</td>\n",
       "      <td>None</td>\n",
       "      <td>1</td>\n",
       "      <td>1</td>\n",
       "      <td>Northern</td>\n",
       "      <td>Frost or ice</td>\n",
       "      <td>Single carriageway</td>\n",
       "      <td>60</td>\n",
       "      <td>03:00</td>\n",
       "      <td>Rural</td>\n",
       "      <td>Fine no high winds</td>\n",
       "      <td>Car</td>\n",
       "    </tr>\n",
       "    <tr>\n",
       "      <th>307970</th>\n",
       "      <td>BS0307971</td>\n",
       "      <td>23-02-2022</td>\n",
       "      <td>Tuesday</td>\n",
       "      <td>Give way or uncontrolled</td>\n",
       "      <td>T or staggered junction</td>\n",
       "      <td>Slight</td>\n",
       "      <td>Daylight</td>\n",
       "      <td>Highland</td>\n",
       "      <td>None</td>\n",
       "      <td>1</td>\n",
       "      <td>3</td>\n",
       "      <td>Northern</td>\n",
       "      <td>Frost or ice</td>\n",
       "      <td>Single carriageway</td>\n",
       "      <td>30</td>\n",
       "      <td>09:38</td>\n",
       "      <td>Rural</td>\n",
       "      <td>Fine no high winds</td>\n",
       "      <td>Car</td>\n",
       "    </tr>\n",
       "    <tr>\n",
       "      <th>307971</th>\n",
       "      <td>BS0307972</td>\n",
       "      <td>23-02-2022</td>\n",
       "      <td>Tuesday</td>\n",
       "      <td>Give way or uncontrolled</td>\n",
       "      <td>T or staggered junction</td>\n",
       "      <td>Serious</td>\n",
       "      <td>Darkness - no lighting</td>\n",
       "      <td>Highland</td>\n",
       "      <td>None</td>\n",
       "      <td>1</td>\n",
       "      <td>2</td>\n",
       "      <td>Northern</td>\n",
       "      <td>Wet or damp</td>\n",
       "      <td>Single carriageway</td>\n",
       "      <td>60</td>\n",
       "      <td>18:25</td>\n",
       "      <td>Rural</td>\n",
       "      <td>Fine no high winds</td>\n",
       "      <td>Motorcycle over 500cc</td>\n",
       "    </tr>\n",
       "    <tr>\n",
       "      <th>307972</th>\n",
       "      <td>BS0307973</td>\n",
       "      <td>28-02-2022</td>\n",
       "      <td>Sunday</td>\n",
       "      <td>Give way or uncontrolled</td>\n",
       "      <td>T or staggered junction</td>\n",
       "      <td>Serious</td>\n",
       "      <td>Daylight</td>\n",
       "      <td>Highland</td>\n",
       "      <td>Other object on road</td>\n",
       "      <td>1</td>\n",
       "      <td>1</td>\n",
       "      <td>Northern</td>\n",
       "      <td>Wet or damp</td>\n",
       "      <td>Dual carriageway</td>\n",
       "      <td>60</td>\n",
       "      <td>15:45</td>\n",
       "      <td>Rural</td>\n",
       "      <td>Snowing no high winds</td>\n",
       "      <td>Car</td>\n",
       "    </tr>\n",
       "  </tbody>\n",
       "</table>\n",
       "<p>307973 rows × 19 columns</p>\n",
       "</div>"
      ],
      "text/plain": [
       "       accident_index accident_date day_of_week              junction_control  \\\n",
       "0           BS0000001    01-01-2021    Thursday      Give way or uncontrolled   \n",
       "1           BS0000002    05-01-2021      Monday      Give way or uncontrolled   \n",
       "2           BS0000003    04-01-2021      Sunday      Give way or uncontrolled   \n",
       "3           BS0000004    05-01-2021      Monday           Auto traffic signal   \n",
       "4           BS0000005    06-01-2021     Tuesday           Auto traffic signal   \n",
       "...               ...           ...         ...                           ...   \n",
       "307968      BS0307969    18-02-2022    Thursday  Data missing or out of range   \n",
       "307969      BS0307970    21-02-2022      Sunday  Data missing or out of range   \n",
       "307970      BS0307971    23-02-2022     Tuesday      Give way or uncontrolled   \n",
       "307971      BS0307972    23-02-2022     Tuesday      Give way or uncontrolled   \n",
       "307972      BS0307973    28-02-2022      Sunday      Give way or uncontrolled   \n",
       "\n",
       "                            junction_detail accident_severity  \\\n",
       "0                   T or staggered junction           Serious   \n",
       "1                                Crossroads           Serious   \n",
       "2                   T or staggered junction            Slight   \n",
       "3                   T or staggered junction           Serious   \n",
       "4                                Crossroads           Serious   \n",
       "...                                     ...               ...   \n",
       "307968  Not at junction or within 20 metres            Slight   \n",
       "307969  Not at junction or within 20 metres            Slight   \n",
       "307970              T or staggered junction            Slight   \n",
       "307971              T or staggered junction           Serious   \n",
       "307972              T or staggered junction           Serious   \n",
       "\n",
       "              light_conditions         local_authority   carriageway_hazards  \\\n",
       "0                     Daylight  Kensington and Chelsea                  None   \n",
       "1                     Daylight  Kensington and Chelsea                  None   \n",
       "2                     Daylight  Kensington and Chelsea                  None   \n",
       "3                     Daylight  Kensington and Chelsea                  None   \n",
       "4        Darkness - lights lit  Kensington and Chelsea                  None   \n",
       "...                        ...                     ...                   ...   \n",
       "307968                Daylight                Highland                  None   \n",
       "307969  Darkness - no lighting                Highland                  None   \n",
       "307970                Daylight                Highland                  None   \n",
       "307971  Darkness - no lighting                Highland                  None   \n",
       "307972                Daylight                Highland  Other object on road   \n",
       "\n",
       "        number_of_casualties  number_of_vehicles         police_force  \\\n",
       "0                          1                   2  Metropolitan Police   \n",
       "1                         11                   2  Metropolitan Police   \n",
       "2                          1                   2  Metropolitan Police   \n",
       "3                          1                   2  Metropolitan Police   \n",
       "4                          1                   2  Metropolitan Police   \n",
       "...                      ...                 ...                  ...   \n",
       "307968                     2                   1             Northern   \n",
       "307969                     1                   1             Northern   \n",
       "307970                     1                   3             Northern   \n",
       "307971                     1                   2             Northern   \n",
       "307972                     1                   1             Northern   \n",
       "\n",
       "       road_surface_conditions           road_type  speed_limit   time  \\\n",
       "0                          Dry      One way street           30  15:11   \n",
       "1                  Wet or damp  Single carriageway           30  10:59   \n",
       "2                          Dry  Single carriageway           30  14:19   \n",
       "3                 Frost or ice  Single carriageway           30  08:10   \n",
       "4                          Dry  Single carriageway           30  17:25   \n",
       "...                        ...                 ...          ...    ...   \n",
       "307968                     Dry  Single carriageway           60  07:00   \n",
       "307969            Frost or ice  Single carriageway           60  03:00   \n",
       "307970            Frost or ice  Single carriageway           30  09:38   \n",
       "307971             Wet or damp  Single carriageway           60  18:25   \n",
       "307972             Wet or damp    Dual carriageway           60  15:45   \n",
       "\n",
       "       urban_or_rural_area     weather_conditions           vehicle_type  \n",
       "0                    Urban     Fine no high winds                    Car  \n",
       "1                    Urban     Fine no high winds  Taxi/Private hire car  \n",
       "2                    Urban     Fine no high winds  Taxi/Private hire car  \n",
       "3                    Urban                  Other  Motorcycle over 500cc  \n",
       "4                    Urban     Fine no high winds                    Car  \n",
       "...                    ...                    ...                    ...  \n",
       "307968               Rural     Fine no high winds                    Car  \n",
       "307969               Rural     Fine no high winds                    Car  \n",
       "307970               Rural     Fine no high winds                    Car  \n",
       "307971               Rural     Fine no high winds  Motorcycle over 500cc  \n",
       "307972               Rural  Snowing no high winds                    Car  \n",
       "\n",
       "[307973 rows x 19 columns]"
      ]
     },
     "execution_count": 28,
     "metadata": {},
     "output_type": "execute_result"
    }
   ],
   "source": [
    "d"
   ]
  },
  {
   "cell_type": "code",
   "execution_count": 29,
   "id": "828bb6a6",
   "metadata": {},
   "outputs": [
    {
     "data": {
      "text/html": [
       "<div>\n",
       "<style scoped>\n",
       "    .dataframe tbody tr th:only-of-type {\n",
       "        vertical-align: middle;\n",
       "    }\n",
       "\n",
       "    .dataframe tbody tr th {\n",
       "        vertical-align: top;\n",
       "    }\n",
       "\n",
       "    .dataframe thead th {\n",
       "        text-align: right;\n",
       "    }\n",
       "</style>\n",
       "<table border=\"1\" class=\"dataframe\">\n",
       "  <thead>\n",
       "    <tr style=\"text-align: right;\">\n",
       "      <th></th>\n",
       "      <th>accident_index</th>\n",
       "      <th>accident_date</th>\n",
       "      <th>day_of_week</th>\n",
       "      <th>junction_control</th>\n",
       "      <th>junction_detail</th>\n",
       "      <th>accident_severity</th>\n",
       "      <th>light_conditions</th>\n",
       "      <th>local_authority</th>\n",
       "      <th>carriageway_hazards</th>\n",
       "      <th>number_of_casualties</th>\n",
       "      <th>number_of_vehicles</th>\n",
       "      <th>police_force</th>\n",
       "      <th>road_surface_conditions</th>\n",
       "      <th>road_type</th>\n",
       "      <th>speed_limit</th>\n",
       "      <th>time</th>\n",
       "      <th>urban_or_rural_area</th>\n",
       "      <th>weather_conditions</th>\n",
       "      <th>vehicle_type</th>\n",
       "    </tr>\n",
       "  </thead>\n",
       "  <tbody>\n",
       "    <tr>\n",
       "      <th>0</th>\n",
       "      <td>BS0000001</td>\n",
       "      <td>01-01-2021</td>\n",
       "      <td>Thursday</td>\n",
       "      <td>Give way or uncontrolled</td>\n",
       "      <td>T or staggered junction</td>\n",
       "      <td>Serious</td>\n",
       "      <td>Daylight</td>\n",
       "      <td>Kensington and Chelsea</td>\n",
       "      <td>None</td>\n",
       "      <td>1</td>\n",
       "      <td>2</td>\n",
       "      <td>Metropolitan Police</td>\n",
       "      <td>Dry</td>\n",
       "      <td>One way street</td>\n",
       "      <td>30</td>\n",
       "      <td>15:11</td>\n",
       "      <td>Urban</td>\n",
       "      <td>Fine no high winds</td>\n",
       "      <td>Car</td>\n",
       "    </tr>\n",
       "    <tr>\n",
       "      <th>1</th>\n",
       "      <td>BS0000002</td>\n",
       "      <td>05-01-2021</td>\n",
       "      <td>Monday</td>\n",
       "      <td>Give way or uncontrolled</td>\n",
       "      <td>Crossroads</td>\n",
       "      <td>Serious</td>\n",
       "      <td>Daylight</td>\n",
       "      <td>Kensington and Chelsea</td>\n",
       "      <td>None</td>\n",
       "      <td>11</td>\n",
       "      <td>2</td>\n",
       "      <td>Metropolitan Police</td>\n",
       "      <td>Wet or damp</td>\n",
       "      <td>Single carriageway</td>\n",
       "      <td>30</td>\n",
       "      <td>10:59</td>\n",
       "      <td>Urban</td>\n",
       "      <td>Fine no high winds</td>\n",
       "      <td>Taxi/Private hire car</td>\n",
       "    </tr>\n",
       "    <tr>\n",
       "      <th>2</th>\n",
       "      <td>BS0000003</td>\n",
       "      <td>04-01-2021</td>\n",
       "      <td>Sunday</td>\n",
       "      <td>Give way or uncontrolled</td>\n",
       "      <td>T or staggered junction</td>\n",
       "      <td>Slight</td>\n",
       "      <td>Daylight</td>\n",
       "      <td>Kensington and Chelsea</td>\n",
       "      <td>None</td>\n",
       "      <td>1</td>\n",
       "      <td>2</td>\n",
       "      <td>Metropolitan Police</td>\n",
       "      <td>Dry</td>\n",
       "      <td>Single carriageway</td>\n",
       "      <td>30</td>\n",
       "      <td>14:19</td>\n",
       "      <td>Urban</td>\n",
       "      <td>Fine no high winds</td>\n",
       "      <td>Taxi/Private hire car</td>\n",
       "    </tr>\n",
       "    <tr>\n",
       "      <th>3</th>\n",
       "      <td>BS0000004</td>\n",
       "      <td>05-01-2021</td>\n",
       "      <td>Monday</td>\n",
       "      <td>Auto traffic signal</td>\n",
       "      <td>T or staggered junction</td>\n",
       "      <td>Serious</td>\n",
       "      <td>Daylight</td>\n",
       "      <td>Kensington and Chelsea</td>\n",
       "      <td>None</td>\n",
       "      <td>1</td>\n",
       "      <td>2</td>\n",
       "      <td>Metropolitan Police</td>\n",
       "      <td>Frost or ice</td>\n",
       "      <td>Single carriageway</td>\n",
       "      <td>30</td>\n",
       "      <td>08:10</td>\n",
       "      <td>Urban</td>\n",
       "      <td>Other</td>\n",
       "      <td>Motorcycle over 500cc</td>\n",
       "    </tr>\n",
       "    <tr>\n",
       "      <th>4</th>\n",
       "      <td>BS0000005</td>\n",
       "      <td>06-01-2021</td>\n",
       "      <td>Tuesday</td>\n",
       "      <td>Auto traffic signal</td>\n",
       "      <td>Crossroads</td>\n",
       "      <td>Serious</td>\n",
       "      <td>Darkness - lights lit</td>\n",
       "      <td>Kensington and Chelsea</td>\n",
       "      <td>None</td>\n",
       "      <td>1</td>\n",
       "      <td>2</td>\n",
       "      <td>Metropolitan Police</td>\n",
       "      <td>Dry</td>\n",
       "      <td>Single carriageway</td>\n",
       "      <td>30</td>\n",
       "      <td>17:25</td>\n",
       "      <td>Urban</td>\n",
       "      <td>Fine no high winds</td>\n",
       "      <td>Car</td>\n",
       "    </tr>\n",
       "  </tbody>\n",
       "</table>\n",
       "</div>"
      ],
      "text/plain": [
       "  accident_index accident_date day_of_week          junction_control  \\\n",
       "0      BS0000001    01-01-2021    Thursday  Give way or uncontrolled   \n",
       "1      BS0000002    05-01-2021      Monday  Give way or uncontrolled   \n",
       "2      BS0000003    04-01-2021      Sunday  Give way or uncontrolled   \n",
       "3      BS0000004    05-01-2021      Monday       Auto traffic signal   \n",
       "4      BS0000005    06-01-2021     Tuesday       Auto traffic signal   \n",
       "\n",
       "           junction_detail accident_severity       light_conditions  \\\n",
       "0  T or staggered junction           Serious               Daylight   \n",
       "1               Crossroads           Serious               Daylight   \n",
       "2  T or staggered junction            Slight               Daylight   \n",
       "3  T or staggered junction           Serious               Daylight   \n",
       "4               Crossroads           Serious  Darkness - lights lit   \n",
       "\n",
       "          local_authority carriageway_hazards  number_of_casualties  \\\n",
       "0  Kensington and Chelsea                None                     1   \n",
       "1  Kensington and Chelsea                None                    11   \n",
       "2  Kensington and Chelsea                None                     1   \n",
       "3  Kensington and Chelsea                None                     1   \n",
       "4  Kensington and Chelsea                None                     1   \n",
       "\n",
       "   number_of_vehicles         police_force road_surface_conditions  \\\n",
       "0                   2  Metropolitan Police                     Dry   \n",
       "1                   2  Metropolitan Police             Wet or damp   \n",
       "2                   2  Metropolitan Police                     Dry   \n",
       "3                   2  Metropolitan Police            Frost or ice   \n",
       "4                   2  Metropolitan Police                     Dry   \n",
       "\n",
       "            road_type  speed_limit   time urban_or_rural_area  \\\n",
       "0      One way street           30  15:11               Urban   \n",
       "1  Single carriageway           30  10:59               Urban   \n",
       "2  Single carriageway           30  14:19               Urban   \n",
       "3  Single carriageway           30  08:10               Urban   \n",
       "4  Single carriageway           30  17:25               Urban   \n",
       "\n",
       "   weather_conditions           vehicle_type  \n",
       "0  Fine no high winds                    Car  \n",
       "1  Fine no high winds  Taxi/Private hire car  \n",
       "2  Fine no high winds  Taxi/Private hire car  \n",
       "3               Other  Motorcycle over 500cc  \n",
       "4  Fine no high winds                    Car  "
      ]
     },
     "execution_count": 29,
     "metadata": {},
     "output_type": "execute_result"
    }
   ],
   "source": [
    "d.head()"
   ]
  },
  {
   "cell_type": "code",
   "execution_count": 30,
   "id": "cd903342",
   "metadata": {},
   "outputs": [
    {
     "data": {
      "text/html": [
       "<div>\n",
       "<style scoped>\n",
       "    .dataframe tbody tr th:only-of-type {\n",
       "        vertical-align: middle;\n",
       "    }\n",
       "\n",
       "    .dataframe tbody tr th {\n",
       "        vertical-align: top;\n",
       "    }\n",
       "\n",
       "    .dataframe thead th {\n",
       "        text-align: right;\n",
       "    }\n",
       "</style>\n",
       "<table border=\"1\" class=\"dataframe\">\n",
       "  <thead>\n",
       "    <tr style=\"text-align: right;\">\n",
       "      <th></th>\n",
       "      <th>accident_index</th>\n",
       "      <th>accident_date</th>\n",
       "      <th>day_of_week</th>\n",
       "      <th>junction_control</th>\n",
       "      <th>junction_detail</th>\n",
       "      <th>accident_severity</th>\n",
       "      <th>light_conditions</th>\n",
       "      <th>local_authority</th>\n",
       "      <th>carriageway_hazards</th>\n",
       "      <th>number_of_casualties</th>\n",
       "      <th>number_of_vehicles</th>\n",
       "      <th>police_force</th>\n",
       "      <th>road_surface_conditions</th>\n",
       "      <th>road_type</th>\n",
       "      <th>speed_limit</th>\n",
       "      <th>time</th>\n",
       "      <th>urban_or_rural_area</th>\n",
       "      <th>weather_conditions</th>\n",
       "      <th>vehicle_type</th>\n",
       "    </tr>\n",
       "  </thead>\n",
       "  <tbody>\n",
       "    <tr>\n",
       "      <th>307968</th>\n",
       "      <td>BS0307969</td>\n",
       "      <td>18-02-2022</td>\n",
       "      <td>Thursday</td>\n",
       "      <td>Data missing or out of range</td>\n",
       "      <td>Not at junction or within 20 metres</td>\n",
       "      <td>Slight</td>\n",
       "      <td>Daylight</td>\n",
       "      <td>Highland</td>\n",
       "      <td>None</td>\n",
       "      <td>2</td>\n",
       "      <td>1</td>\n",
       "      <td>Northern</td>\n",
       "      <td>Dry</td>\n",
       "      <td>Single carriageway</td>\n",
       "      <td>60</td>\n",
       "      <td>07:00</td>\n",
       "      <td>Rural</td>\n",
       "      <td>Fine no high winds</td>\n",
       "      <td>Car</td>\n",
       "    </tr>\n",
       "    <tr>\n",
       "      <th>307969</th>\n",
       "      <td>BS0307970</td>\n",
       "      <td>21-02-2022</td>\n",
       "      <td>Sunday</td>\n",
       "      <td>Data missing or out of range</td>\n",
       "      <td>Not at junction or within 20 metres</td>\n",
       "      <td>Slight</td>\n",
       "      <td>Darkness - no lighting</td>\n",
       "      <td>Highland</td>\n",
       "      <td>None</td>\n",
       "      <td>1</td>\n",
       "      <td>1</td>\n",
       "      <td>Northern</td>\n",
       "      <td>Frost or ice</td>\n",
       "      <td>Single carriageway</td>\n",
       "      <td>60</td>\n",
       "      <td>03:00</td>\n",
       "      <td>Rural</td>\n",
       "      <td>Fine no high winds</td>\n",
       "      <td>Car</td>\n",
       "    </tr>\n",
       "    <tr>\n",
       "      <th>307970</th>\n",
       "      <td>BS0307971</td>\n",
       "      <td>23-02-2022</td>\n",
       "      <td>Tuesday</td>\n",
       "      <td>Give way or uncontrolled</td>\n",
       "      <td>T or staggered junction</td>\n",
       "      <td>Slight</td>\n",
       "      <td>Daylight</td>\n",
       "      <td>Highland</td>\n",
       "      <td>None</td>\n",
       "      <td>1</td>\n",
       "      <td>3</td>\n",
       "      <td>Northern</td>\n",
       "      <td>Frost or ice</td>\n",
       "      <td>Single carriageway</td>\n",
       "      <td>30</td>\n",
       "      <td>09:38</td>\n",
       "      <td>Rural</td>\n",
       "      <td>Fine no high winds</td>\n",
       "      <td>Car</td>\n",
       "    </tr>\n",
       "    <tr>\n",
       "      <th>307971</th>\n",
       "      <td>BS0307972</td>\n",
       "      <td>23-02-2022</td>\n",
       "      <td>Tuesday</td>\n",
       "      <td>Give way or uncontrolled</td>\n",
       "      <td>T or staggered junction</td>\n",
       "      <td>Serious</td>\n",
       "      <td>Darkness - no lighting</td>\n",
       "      <td>Highland</td>\n",
       "      <td>None</td>\n",
       "      <td>1</td>\n",
       "      <td>2</td>\n",
       "      <td>Northern</td>\n",
       "      <td>Wet or damp</td>\n",
       "      <td>Single carriageway</td>\n",
       "      <td>60</td>\n",
       "      <td>18:25</td>\n",
       "      <td>Rural</td>\n",
       "      <td>Fine no high winds</td>\n",
       "      <td>Motorcycle over 500cc</td>\n",
       "    </tr>\n",
       "    <tr>\n",
       "      <th>307972</th>\n",
       "      <td>BS0307973</td>\n",
       "      <td>28-02-2022</td>\n",
       "      <td>Sunday</td>\n",
       "      <td>Give way or uncontrolled</td>\n",
       "      <td>T or staggered junction</td>\n",
       "      <td>Serious</td>\n",
       "      <td>Daylight</td>\n",
       "      <td>Highland</td>\n",
       "      <td>Other object on road</td>\n",
       "      <td>1</td>\n",
       "      <td>1</td>\n",
       "      <td>Northern</td>\n",
       "      <td>Wet or damp</td>\n",
       "      <td>Dual carriageway</td>\n",
       "      <td>60</td>\n",
       "      <td>15:45</td>\n",
       "      <td>Rural</td>\n",
       "      <td>Snowing no high winds</td>\n",
       "      <td>Car</td>\n",
       "    </tr>\n",
       "  </tbody>\n",
       "</table>\n",
       "</div>"
      ],
      "text/plain": [
       "       accident_index accident_date day_of_week              junction_control  \\\n",
       "307968      BS0307969    18-02-2022    Thursday  Data missing or out of range   \n",
       "307969      BS0307970    21-02-2022      Sunday  Data missing or out of range   \n",
       "307970      BS0307971    23-02-2022     Tuesday      Give way or uncontrolled   \n",
       "307971      BS0307972    23-02-2022     Tuesday      Give way or uncontrolled   \n",
       "307972      BS0307973    28-02-2022      Sunday      Give way or uncontrolled   \n",
       "\n",
       "                            junction_detail accident_severity  \\\n",
       "307968  Not at junction or within 20 metres            Slight   \n",
       "307969  Not at junction or within 20 metres            Slight   \n",
       "307970              T or staggered junction            Slight   \n",
       "307971              T or staggered junction           Serious   \n",
       "307972              T or staggered junction           Serious   \n",
       "\n",
       "              light_conditions local_authority   carriageway_hazards  \\\n",
       "307968                Daylight        Highland                  None   \n",
       "307969  Darkness - no lighting        Highland                  None   \n",
       "307970                Daylight        Highland                  None   \n",
       "307971  Darkness - no lighting        Highland                  None   \n",
       "307972                Daylight        Highland  Other object on road   \n",
       "\n",
       "        number_of_casualties  number_of_vehicles police_force  \\\n",
       "307968                     2                   1     Northern   \n",
       "307969                     1                   1     Northern   \n",
       "307970                     1                   3     Northern   \n",
       "307971                     1                   2     Northern   \n",
       "307972                     1                   1     Northern   \n",
       "\n",
       "       road_surface_conditions           road_type  speed_limit   time  \\\n",
       "307968                     Dry  Single carriageway           60  07:00   \n",
       "307969            Frost or ice  Single carriageway           60  03:00   \n",
       "307970            Frost or ice  Single carriageway           30  09:38   \n",
       "307971             Wet or damp  Single carriageway           60  18:25   \n",
       "307972             Wet or damp    Dual carriageway           60  15:45   \n",
       "\n",
       "       urban_or_rural_area     weather_conditions           vehicle_type  \n",
       "307968               Rural     Fine no high winds                    Car  \n",
       "307969               Rural     Fine no high winds                    Car  \n",
       "307970               Rural     Fine no high winds                    Car  \n",
       "307971               Rural     Fine no high winds  Motorcycle over 500cc  \n",
       "307972               Rural  Snowing no high winds                    Car  "
      ]
     },
     "execution_count": 30,
     "metadata": {},
     "output_type": "execute_result"
    }
   ],
   "source": [
    "d.tail()"
   ]
  },
  {
   "cell_type": "code",
   "execution_count": 31,
   "id": "da0269bb",
   "metadata": {},
   "outputs": [
    {
     "data": {
      "text/plain": [
       "(307973, 19)"
      ]
     },
     "execution_count": 31,
     "metadata": {},
     "output_type": "execute_result"
    }
   ],
   "source": [
    "d.shape"
   ]
  },
  {
   "cell_type": "code",
   "execution_count": 32,
   "id": "6c3eb5ce",
   "metadata": {},
   "outputs": [
    {
     "data": {
      "text/plain": [
       "Index(['accident_index', 'accident_date', 'day_of_week', 'junction_control',\n",
       "       'junction_detail', 'accident_severity', 'light_conditions',\n",
       "       'local_authority', 'carriageway_hazards', 'number_of_casualties',\n",
       "       'number_of_vehicles', 'police_force', 'road_surface_conditions',\n",
       "       'road_type', 'speed_limit', 'time', 'urban_or_rural_area',\n",
       "       'weather_conditions', 'vehicle_type'],\n",
       "      dtype='object')"
      ]
     },
     "execution_count": 32,
     "metadata": {},
     "output_type": "execute_result"
    }
   ],
   "source": [
    "d.columns"
   ]
  },
  {
   "cell_type": "code",
   "execution_count": 33,
   "id": "f9b55c57",
   "metadata": {},
   "outputs": [
    {
     "data": {
      "text/plain": [
       "accident_index             object\n",
       "accident_date              object\n",
       "day_of_week                object\n",
       "junction_control           object\n",
       "junction_detail            object\n",
       "accident_severity          object\n",
       "light_conditions           object\n",
       "local_authority            object\n",
       "carriageway_hazards        object\n",
       "number_of_casualties        int64\n",
       "number_of_vehicles          int64\n",
       "police_force               object\n",
       "road_surface_conditions    object\n",
       "road_type                  object\n",
       "speed_limit                 int64\n",
       "time                       object\n",
       "urban_or_rural_area        object\n",
       "weather_conditions         object\n",
       "vehicle_type               object\n",
       "dtype: object"
      ]
     },
     "execution_count": 33,
     "metadata": {},
     "output_type": "execute_result"
    }
   ],
   "source": [
    "d.dtypes"
   ]
  },
  {
   "cell_type": "code",
   "execution_count": 34,
   "id": "97691cb9",
   "metadata": {},
   "outputs": [
    {
     "data": {
      "text/plain": [
       "<bound method DataFrame.duplicated of        accident_index accident_date day_of_week              junction_control  \\\n",
       "0           BS0000001    01-01-2021    Thursday      Give way or uncontrolled   \n",
       "1           BS0000002    05-01-2021      Monday      Give way or uncontrolled   \n",
       "2           BS0000003    04-01-2021      Sunday      Give way or uncontrolled   \n",
       "3           BS0000004    05-01-2021      Monday           Auto traffic signal   \n",
       "4           BS0000005    06-01-2021     Tuesday           Auto traffic signal   \n",
       "...               ...           ...         ...                           ...   \n",
       "307968      BS0307969    18-02-2022    Thursday  Data missing or out of range   \n",
       "307969      BS0307970    21-02-2022      Sunday  Data missing or out of range   \n",
       "307970      BS0307971    23-02-2022     Tuesday      Give way or uncontrolled   \n",
       "307971      BS0307972    23-02-2022     Tuesday      Give way or uncontrolled   \n",
       "307972      BS0307973    28-02-2022      Sunday      Give way or uncontrolled   \n",
       "\n",
       "                            junction_detail accident_severity  \\\n",
       "0                   T or staggered junction           Serious   \n",
       "1                                Crossroads           Serious   \n",
       "2                   T or staggered junction            Slight   \n",
       "3                   T or staggered junction           Serious   \n",
       "4                                Crossroads           Serious   \n",
       "...                                     ...               ...   \n",
       "307968  Not at junction or within 20 metres            Slight   \n",
       "307969  Not at junction or within 20 metres            Slight   \n",
       "307970              T or staggered junction            Slight   \n",
       "307971              T or staggered junction           Serious   \n",
       "307972              T or staggered junction           Serious   \n",
       "\n",
       "              light_conditions         local_authority   carriageway_hazards  \\\n",
       "0                     Daylight  Kensington and Chelsea                  None   \n",
       "1                     Daylight  Kensington and Chelsea                  None   \n",
       "2                     Daylight  Kensington and Chelsea                  None   \n",
       "3                     Daylight  Kensington and Chelsea                  None   \n",
       "4        Darkness - lights lit  Kensington and Chelsea                  None   \n",
       "...                        ...                     ...                   ...   \n",
       "307968                Daylight                Highland                  None   \n",
       "307969  Darkness - no lighting                Highland                  None   \n",
       "307970                Daylight                Highland                  None   \n",
       "307971  Darkness - no lighting                Highland                  None   \n",
       "307972                Daylight                Highland  Other object on road   \n",
       "\n",
       "        number_of_casualties  number_of_vehicles         police_force  \\\n",
       "0                          1                   2  Metropolitan Police   \n",
       "1                         11                   2  Metropolitan Police   \n",
       "2                          1                   2  Metropolitan Police   \n",
       "3                          1                   2  Metropolitan Police   \n",
       "4                          1                   2  Metropolitan Police   \n",
       "...                      ...                 ...                  ...   \n",
       "307968                     2                   1             Northern   \n",
       "307969                     1                   1             Northern   \n",
       "307970                     1                   3             Northern   \n",
       "307971                     1                   2             Northern   \n",
       "307972                     1                   1             Northern   \n",
       "\n",
       "       road_surface_conditions           road_type  speed_limit   time  \\\n",
       "0                          Dry      One way street           30  15:11   \n",
       "1                  Wet or damp  Single carriageway           30  10:59   \n",
       "2                          Dry  Single carriageway           30  14:19   \n",
       "3                 Frost or ice  Single carriageway           30  08:10   \n",
       "4                          Dry  Single carriageway           30  17:25   \n",
       "...                        ...                 ...          ...    ...   \n",
       "307968                     Dry  Single carriageway           60  07:00   \n",
       "307969            Frost or ice  Single carriageway           60  03:00   \n",
       "307970            Frost or ice  Single carriageway           30  09:38   \n",
       "307971             Wet or damp  Single carriageway           60  18:25   \n",
       "307972             Wet or damp    Dual carriageway           60  15:45   \n",
       "\n",
       "       urban_or_rural_area     weather_conditions           vehicle_type  \n",
       "0                    Urban     Fine no high winds                    Car  \n",
       "1                    Urban     Fine no high winds  Taxi/Private hire car  \n",
       "2                    Urban     Fine no high winds  Taxi/Private hire car  \n",
       "3                    Urban                  Other  Motorcycle over 500cc  \n",
       "4                    Urban     Fine no high winds                    Car  \n",
       "...                    ...                    ...                    ...  \n",
       "307968               Rural     Fine no high winds                    Car  \n",
       "307969               Rural     Fine no high winds                    Car  \n",
       "307970               Rural     Fine no high winds                    Car  \n",
       "307971               Rural     Fine no high winds  Motorcycle over 500cc  \n",
       "307972               Rural  Snowing no high winds                    Car  \n",
       "\n",
       "[307973 rows x 19 columns]>"
      ]
     },
     "execution_count": 34,
     "metadata": {},
     "output_type": "execute_result"
    }
   ],
   "source": [
    "d.duplicated"
   ]
  },
  {
   "cell_type": "code",
   "execution_count": 35,
   "id": "0ed251d4",
   "metadata": {},
   "outputs": [
    {
     "data": {
      "text/plain": [
       "0         False\n",
       "1         False\n",
       "2         False\n",
       "3         False\n",
       "4         False\n",
       "          ...  \n",
       "307968    False\n",
       "307969    False\n",
       "307970    False\n",
       "307971    False\n",
       "307972    False\n",
       "Length: 307973, dtype: bool"
      ]
     },
     "execution_count": 35,
     "metadata": {},
     "output_type": "execute_result"
    }
   ],
   "source": [
    "d.duplicated()"
   ]
  },
  {
   "cell_type": "code",
   "execution_count": 36,
   "id": "d1558d46",
   "metadata": {},
   "outputs": [
    {
     "data": {
      "text/html": [
       "<div>\n",
       "<style scoped>\n",
       "    .dataframe tbody tr th:only-of-type {\n",
       "        vertical-align: middle;\n",
       "    }\n",
       "\n",
       "    .dataframe tbody tr th {\n",
       "        vertical-align: top;\n",
       "    }\n",
       "\n",
       "    .dataframe thead th {\n",
       "        text-align: right;\n",
       "    }\n",
       "</style>\n",
       "<table border=\"1\" class=\"dataframe\">\n",
       "  <thead>\n",
       "    <tr style=\"text-align: right;\">\n",
       "      <th></th>\n",
       "      <th>accident_index</th>\n",
       "      <th>accident_date</th>\n",
       "      <th>day_of_week</th>\n",
       "      <th>junction_control</th>\n",
       "      <th>junction_detail</th>\n",
       "      <th>accident_severity</th>\n",
       "      <th>light_conditions</th>\n",
       "      <th>local_authority</th>\n",
       "      <th>carriageway_hazards</th>\n",
       "      <th>number_of_casualties</th>\n",
       "      <th>number_of_vehicles</th>\n",
       "      <th>police_force</th>\n",
       "      <th>road_surface_conditions</th>\n",
       "      <th>road_type</th>\n",
       "      <th>speed_limit</th>\n",
       "      <th>time</th>\n",
       "      <th>urban_or_rural_area</th>\n",
       "      <th>weather_conditions</th>\n",
       "      <th>vehicle_type</th>\n",
       "    </tr>\n",
       "  </thead>\n",
       "  <tbody>\n",
       "  </tbody>\n",
       "</table>\n",
       "</div>"
      ],
      "text/plain": [
       "Empty DataFrame\n",
       "Columns: [accident_index, accident_date, day_of_week, junction_control, junction_detail, accident_severity, light_conditions, local_authority, carriageway_hazards, number_of_casualties, number_of_vehicles, police_force, road_surface_conditions, road_type, speed_limit, time, urban_or_rural_area, weather_conditions, vehicle_type]\n",
       "Index: []"
      ]
     },
     "execution_count": 36,
     "metadata": {},
     "output_type": "execute_result"
    }
   ],
   "source": [
    "d[d.duplicated()]"
   ]
  },
  {
   "cell_type": "code",
   "execution_count": 37,
   "id": "83408740",
   "metadata": {},
   "outputs": [
    {
     "data": {
      "text/html": [
       "<div>\n",
       "<style scoped>\n",
       "    .dataframe tbody tr th:only-of-type {\n",
       "        vertical-align: middle;\n",
       "    }\n",
       "\n",
       "    .dataframe tbody tr th {\n",
       "        vertical-align: top;\n",
       "    }\n",
       "\n",
       "    .dataframe thead th {\n",
       "        text-align: right;\n",
       "    }\n",
       "</style>\n",
       "<table border=\"1\" class=\"dataframe\">\n",
       "  <thead>\n",
       "    <tr style=\"text-align: right;\">\n",
       "      <th></th>\n",
       "      <th>accident_index</th>\n",
       "      <th>accident_date</th>\n",
       "      <th>day_of_week</th>\n",
       "      <th>junction_control</th>\n",
       "      <th>junction_detail</th>\n",
       "      <th>accident_severity</th>\n",
       "      <th>light_conditions</th>\n",
       "      <th>local_authority</th>\n",
       "      <th>carriageway_hazards</th>\n",
       "      <th>number_of_casualties</th>\n",
       "      <th>number_of_vehicles</th>\n",
       "      <th>police_force</th>\n",
       "      <th>road_surface_conditions</th>\n",
       "      <th>road_type</th>\n",
       "      <th>speed_limit</th>\n",
       "      <th>time</th>\n",
       "      <th>urban_or_rural_area</th>\n",
       "      <th>weather_conditions</th>\n",
       "      <th>vehicle_type</th>\n",
       "    </tr>\n",
       "  </thead>\n",
       "  <tbody>\n",
       "    <tr>\n",
       "      <th>0</th>\n",
       "      <td>False</td>\n",
       "      <td>False</td>\n",
       "      <td>False</td>\n",
       "      <td>False</td>\n",
       "      <td>False</td>\n",
       "      <td>False</td>\n",
       "      <td>False</td>\n",
       "      <td>False</td>\n",
       "      <td>False</td>\n",
       "      <td>False</td>\n",
       "      <td>False</td>\n",
       "      <td>False</td>\n",
       "      <td>False</td>\n",
       "      <td>False</td>\n",
       "      <td>False</td>\n",
       "      <td>False</td>\n",
       "      <td>False</td>\n",
       "      <td>False</td>\n",
       "      <td>False</td>\n",
       "    </tr>\n",
       "    <tr>\n",
       "      <th>1</th>\n",
       "      <td>False</td>\n",
       "      <td>False</td>\n",
       "      <td>False</td>\n",
       "      <td>False</td>\n",
       "      <td>False</td>\n",
       "      <td>False</td>\n",
       "      <td>False</td>\n",
       "      <td>False</td>\n",
       "      <td>False</td>\n",
       "      <td>False</td>\n",
       "      <td>False</td>\n",
       "      <td>False</td>\n",
       "      <td>False</td>\n",
       "      <td>False</td>\n",
       "      <td>False</td>\n",
       "      <td>False</td>\n",
       "      <td>False</td>\n",
       "      <td>False</td>\n",
       "      <td>False</td>\n",
       "    </tr>\n",
       "    <tr>\n",
       "      <th>2</th>\n",
       "      <td>False</td>\n",
       "      <td>False</td>\n",
       "      <td>False</td>\n",
       "      <td>False</td>\n",
       "      <td>False</td>\n",
       "      <td>False</td>\n",
       "      <td>False</td>\n",
       "      <td>False</td>\n",
       "      <td>False</td>\n",
       "      <td>False</td>\n",
       "      <td>False</td>\n",
       "      <td>False</td>\n",
       "      <td>False</td>\n",
       "      <td>False</td>\n",
       "      <td>False</td>\n",
       "      <td>False</td>\n",
       "      <td>False</td>\n",
       "      <td>False</td>\n",
       "      <td>False</td>\n",
       "    </tr>\n",
       "    <tr>\n",
       "      <th>3</th>\n",
       "      <td>False</td>\n",
       "      <td>False</td>\n",
       "      <td>False</td>\n",
       "      <td>False</td>\n",
       "      <td>False</td>\n",
       "      <td>False</td>\n",
       "      <td>False</td>\n",
       "      <td>False</td>\n",
       "      <td>False</td>\n",
       "      <td>False</td>\n",
       "      <td>False</td>\n",
       "      <td>False</td>\n",
       "      <td>False</td>\n",
       "      <td>False</td>\n",
       "      <td>False</td>\n",
       "      <td>False</td>\n",
       "      <td>False</td>\n",
       "      <td>False</td>\n",
       "      <td>False</td>\n",
       "    </tr>\n",
       "    <tr>\n",
       "      <th>4</th>\n",
       "      <td>False</td>\n",
       "      <td>False</td>\n",
       "      <td>False</td>\n",
       "      <td>False</td>\n",
       "      <td>False</td>\n",
       "      <td>False</td>\n",
       "      <td>False</td>\n",
       "      <td>False</td>\n",
       "      <td>False</td>\n",
       "      <td>False</td>\n",
       "      <td>False</td>\n",
       "      <td>False</td>\n",
       "      <td>False</td>\n",
       "      <td>False</td>\n",
       "      <td>False</td>\n",
       "      <td>False</td>\n",
       "      <td>False</td>\n",
       "      <td>False</td>\n",
       "      <td>False</td>\n",
       "    </tr>\n",
       "    <tr>\n",
       "      <th>...</th>\n",
       "      <td>...</td>\n",
       "      <td>...</td>\n",
       "      <td>...</td>\n",
       "      <td>...</td>\n",
       "      <td>...</td>\n",
       "      <td>...</td>\n",
       "      <td>...</td>\n",
       "      <td>...</td>\n",
       "      <td>...</td>\n",
       "      <td>...</td>\n",
       "      <td>...</td>\n",
       "      <td>...</td>\n",
       "      <td>...</td>\n",
       "      <td>...</td>\n",
       "      <td>...</td>\n",
       "      <td>...</td>\n",
       "      <td>...</td>\n",
       "      <td>...</td>\n",
       "      <td>...</td>\n",
       "    </tr>\n",
       "    <tr>\n",
       "      <th>307968</th>\n",
       "      <td>False</td>\n",
       "      <td>False</td>\n",
       "      <td>False</td>\n",
       "      <td>False</td>\n",
       "      <td>False</td>\n",
       "      <td>False</td>\n",
       "      <td>False</td>\n",
       "      <td>False</td>\n",
       "      <td>False</td>\n",
       "      <td>False</td>\n",
       "      <td>False</td>\n",
       "      <td>False</td>\n",
       "      <td>False</td>\n",
       "      <td>False</td>\n",
       "      <td>False</td>\n",
       "      <td>False</td>\n",
       "      <td>False</td>\n",
       "      <td>False</td>\n",
       "      <td>False</td>\n",
       "    </tr>\n",
       "    <tr>\n",
       "      <th>307969</th>\n",
       "      <td>False</td>\n",
       "      <td>False</td>\n",
       "      <td>False</td>\n",
       "      <td>False</td>\n",
       "      <td>False</td>\n",
       "      <td>False</td>\n",
       "      <td>False</td>\n",
       "      <td>False</td>\n",
       "      <td>False</td>\n",
       "      <td>False</td>\n",
       "      <td>False</td>\n",
       "      <td>False</td>\n",
       "      <td>False</td>\n",
       "      <td>False</td>\n",
       "      <td>False</td>\n",
       "      <td>False</td>\n",
       "      <td>False</td>\n",
       "      <td>False</td>\n",
       "      <td>False</td>\n",
       "    </tr>\n",
       "    <tr>\n",
       "      <th>307970</th>\n",
       "      <td>False</td>\n",
       "      <td>False</td>\n",
       "      <td>False</td>\n",
       "      <td>False</td>\n",
       "      <td>False</td>\n",
       "      <td>False</td>\n",
       "      <td>False</td>\n",
       "      <td>False</td>\n",
       "      <td>False</td>\n",
       "      <td>False</td>\n",
       "      <td>False</td>\n",
       "      <td>False</td>\n",
       "      <td>False</td>\n",
       "      <td>False</td>\n",
       "      <td>False</td>\n",
       "      <td>False</td>\n",
       "      <td>False</td>\n",
       "      <td>False</td>\n",
       "      <td>False</td>\n",
       "    </tr>\n",
       "    <tr>\n",
       "      <th>307971</th>\n",
       "      <td>False</td>\n",
       "      <td>False</td>\n",
       "      <td>False</td>\n",
       "      <td>False</td>\n",
       "      <td>False</td>\n",
       "      <td>False</td>\n",
       "      <td>False</td>\n",
       "      <td>False</td>\n",
       "      <td>False</td>\n",
       "      <td>False</td>\n",
       "      <td>False</td>\n",
       "      <td>False</td>\n",
       "      <td>False</td>\n",
       "      <td>False</td>\n",
       "      <td>False</td>\n",
       "      <td>False</td>\n",
       "      <td>False</td>\n",
       "      <td>False</td>\n",
       "      <td>False</td>\n",
       "    </tr>\n",
       "    <tr>\n",
       "      <th>307972</th>\n",
       "      <td>False</td>\n",
       "      <td>False</td>\n",
       "      <td>False</td>\n",
       "      <td>False</td>\n",
       "      <td>False</td>\n",
       "      <td>False</td>\n",
       "      <td>False</td>\n",
       "      <td>False</td>\n",
       "      <td>False</td>\n",
       "      <td>False</td>\n",
       "      <td>False</td>\n",
       "      <td>False</td>\n",
       "      <td>False</td>\n",
       "      <td>False</td>\n",
       "      <td>False</td>\n",
       "      <td>False</td>\n",
       "      <td>False</td>\n",
       "      <td>False</td>\n",
       "      <td>False</td>\n",
       "    </tr>\n",
       "  </tbody>\n",
       "</table>\n",
       "<p>307973 rows × 19 columns</p>\n",
       "</div>"
      ],
      "text/plain": [
       "        accident_index  accident_date  day_of_week  junction_control  \\\n",
       "0                False          False        False             False   \n",
       "1                False          False        False             False   \n",
       "2                False          False        False             False   \n",
       "3                False          False        False             False   \n",
       "4                False          False        False             False   \n",
       "...                ...            ...          ...               ...   \n",
       "307968           False          False        False             False   \n",
       "307969           False          False        False             False   \n",
       "307970           False          False        False             False   \n",
       "307971           False          False        False             False   \n",
       "307972           False          False        False             False   \n",
       "\n",
       "        junction_detail  accident_severity  light_conditions  local_authority  \\\n",
       "0                 False              False             False            False   \n",
       "1                 False              False             False            False   \n",
       "2                 False              False             False            False   \n",
       "3                 False              False             False            False   \n",
       "4                 False              False             False            False   \n",
       "...                 ...                ...               ...              ...   \n",
       "307968            False              False             False            False   \n",
       "307969            False              False             False            False   \n",
       "307970            False              False             False            False   \n",
       "307971            False              False             False            False   \n",
       "307972            False              False             False            False   \n",
       "\n",
       "        carriageway_hazards  number_of_casualties  number_of_vehicles  \\\n",
       "0                     False                 False               False   \n",
       "1                     False                 False               False   \n",
       "2                     False                 False               False   \n",
       "3                     False                 False               False   \n",
       "4                     False                 False               False   \n",
       "...                     ...                   ...                 ...   \n",
       "307968                False                 False               False   \n",
       "307969                False                 False               False   \n",
       "307970                False                 False               False   \n",
       "307971                False                 False               False   \n",
       "307972                False                 False               False   \n",
       "\n",
       "        police_force  road_surface_conditions  road_type  speed_limit   time  \\\n",
       "0              False                    False      False        False  False   \n",
       "1              False                    False      False        False  False   \n",
       "2              False                    False      False        False  False   \n",
       "3              False                    False      False        False  False   \n",
       "4              False                    False      False        False  False   \n",
       "...              ...                      ...        ...          ...    ...   \n",
       "307968         False                    False      False        False  False   \n",
       "307969         False                    False      False        False  False   \n",
       "307970         False                    False      False        False  False   \n",
       "307971         False                    False      False        False  False   \n",
       "307972         False                    False      False        False  False   \n",
       "\n",
       "        urban_or_rural_area  weather_conditions  vehicle_type  \n",
       "0                     False               False         False  \n",
       "1                     False               False         False  \n",
       "2                     False               False         False  \n",
       "3                     False               False         False  \n",
       "4                     False               False         False  \n",
       "...                     ...                 ...           ...  \n",
       "307968                False               False         False  \n",
       "307969                False               False         False  \n",
       "307970                False               False         False  \n",
       "307971                False               False         False  \n",
       "307972                False               False         False  \n",
       "\n",
       "[307973 rows x 19 columns]"
      ]
     },
     "execution_count": 37,
     "metadata": {},
     "output_type": "execute_result"
    }
   ],
   "source": [
    "d.isnull()"
   ]
  },
  {
   "cell_type": "code",
   "execution_count": 38,
   "id": "6fd9a5e1",
   "metadata": {},
   "outputs": [
    {
     "data": {
      "text/plain": [
       "accident_index              0\n",
       "accident_date               0\n",
       "day_of_week                 0\n",
       "junction_control            0\n",
       "junction_detail             0\n",
       "accident_severity           0\n",
       "light_conditions            0\n",
       "local_authority             0\n",
       "carriageway_hazards         3\n",
       "number_of_casualties        0\n",
       "number_of_vehicles          0\n",
       "police_force                0\n",
       "road_surface_conditions     0\n",
       "road_type                   0\n",
       "speed_limit                 0\n",
       "time                       17\n",
       "urban_or_rural_area         0\n",
       "weather_conditions          0\n",
       "vehicle_type                0\n",
       "dtype: int64"
      ]
     },
     "execution_count": 38,
     "metadata": {},
     "output_type": "execute_result"
    }
   ],
   "source": [
    "d.isnull().sum()"
   ]
  },
  {
   "cell_type": "code",
   "execution_count": 39,
   "id": "af71a6d8",
   "metadata": {},
   "outputs": [
    {
     "data": {
      "text/plain": [
       "417883"
      ]
     },
     "execution_count": 39,
     "metadata": {},
     "output_type": "execute_result"
    }
   ],
   "source": [
    "### Primary KPI\n",
    "d['number_of_casualties'].sum()"
   ]
  },
  {
   "cell_type": "code",
   "execution_count": 40,
   "id": "c91c83d2",
   "metadata": {},
   "outputs": [
    {
     "data": {
      "text/plain": [
       "array(['Serious', 'Slight', 'Fatal'], dtype=object)"
      ]
     },
     "execution_count": 40,
     "metadata": {},
     "output_type": "execute_result"
    }
   ],
   "source": [
    "### Secondary KPI\n",
    "d['accident_severity'].unique()"
   ]
  },
  {
   "cell_type": "code",
   "execution_count": 41,
   "id": "1292de90",
   "metadata": {},
   "outputs": [
    {
     "data": {
      "text/plain": [
       "accident_severity\n",
       "Fatal        7135\n",
       "Serious     59312\n",
       "Slight     351436\n",
       "Name: number_of_casualties, dtype: int64"
      ]
     },
     "execution_count": 41,
     "metadata": {},
     "output_type": "execute_result"
    }
   ],
   "source": [
    "d.groupby('accident_severity')['number_of_casualties'].sum()"
   ]
  },
  {
   "cell_type": "code",
   "execution_count": 42,
   "id": "66d2233a",
   "metadata": {},
   "outputs": [
    {
     "data": {
      "text/plain": [
       "road_type\n",
       "Dual carriageway       67368\n",
       "One way street          7389\n",
       "Roundabout             26828\n",
       "Single carriageway    309698\n",
       "Slip road               6600\n",
       "Name: number_of_casualties, dtype: int64"
      ]
     },
     "execution_count": 42,
     "metadata": {},
     "output_type": "execute_result"
    }
   ],
   "source": [
    "### 1. Casualties by Road type\n",
    "d.groupby('road_type')['number_of_casualties'].sum()"
   ]
  },
  {
   "cell_type": "code",
   "execution_count": 44,
   "id": "9e7e2bb2",
   "metadata": {},
   "outputs": [
    {
     "data": {
      "text/plain": [
       "<AxesSubplot:ylabel='road_type'>"
      ]
     },
     "execution_count": 44,
     "metadata": {},
     "output_type": "execute_result"
    },
    {
     "data": {
      "image/png": "[encoded data removed]",
      "text/plain": [
       "<Figure size 432x288 with 1 Axes>"
      ]
     },
     "metadata": {
      "needs_background": "light"
     },
     "output_type": "display_data"
    }
   ],
   "source": [
    "###Plot a Bar chart\n",
    "d.groupby('road_type')['number_of_casualties'].sum().sort_values(ascending=True).plot.barh()"
   ]
  },
  {
   "cell_type": "code",
   "execution_count": 70,
   "id": "6e7de224",
   "metadata": {},
   "outputs": [],
   "source": [
    "### 1. Casualties by Road conditions\n",
    "s=d.groupby('road_surface_conditions')['number_of_casualties'].sum().sort_values(ascending=False)"
   ]
  },
  {
   "cell_type": "code",
   "execution_count": 64,
   "id": "6276f1e8",
   "metadata": {},
   "outputs": [
    {
     "name": "stdout",
     "output_type": "stream",
     "text": [
      "Requirement already satisfied: squarify in c:\\users\\divya\\anaconda3\\anaconda\\lib\\site-packages (0.4.3)\n",
      "Note: you may need to restart the kernel to use updated packages.\n"
     ]
    }
   ],
   "source": [
    "pip install squarify"
   ]
  },
  {
   "cell_type": "code",
   "execution_count": 71,
   "id": "55a54ab6",
   "metadata": {},
   "outputs": [
    {
     "data": {
      "image/png": "[encoded data removed]",
      "text/plain": [
       "<Figure size 720x432 with 1 Axes>"
      ]
     },
     "metadata": {
      "needs_background": "light"
     },
     "output_type": "display_data"
    }
   ],
   "source": [
    "import squarify\n",
    "import matplotlib.pyplot as plt\n",
    "labels=s.index\n",
    "size=s.values\n",
    "plt.figure(figsize=(10, 6))\n",
    "squarify.plot(sizes=size, label=labels, alpha=0.6)\n",
    "plt.axis('off')\n",
    "plt.title('Treemap of Sum of Casualties by Road Surface Conditions')\n",
    "plt.show()\n"
   ]
  },
  {
   "cell_type": "code",
   "execution_count": 76,
   "id": "a020fa88",
   "metadata": {},
   "outputs": [
    {
     "data": {
      "text/plain": [
       "urban_or_rural_area\n",
       "Rural    162019\n",
       "Urban    255864\n",
       "Name: number_of_casualties, dtype: int64"
      ]
     },
     "execution_count": 76,
     "metadata": {},
     "output_type": "execute_result"
    }
   ],
   "source": [
    "## Casualties by Location/Year\n",
    "\n",
    "d.groupby('urban_or_rural_area')['number_of_casualties'].sum()\n"
   ]
  },
  {
   "cell_type": "code",
   "execution_count": 77,
   "id": "02aede24",
   "metadata": {},
   "outputs": [
    {
     "data": {
      "text/plain": [
       "<AxesSubplot:ylabel='number_of_casualties'>"
      ]
     },
     "execution_count": 77,
     "metadata": {},
     "output_type": "execute_result"
    },
    {
     "data": {
      "image/png": "[encoded data removed]",
      "text/plain": [
       "<Figure size 432x288 with 1 Axes>"
      ]
     },
     "metadata": {},
     "output_type": "display_data"
    }
   ],
   "source": [
    "d.groupby('urban_or_rural_area')['number_of_casualties'].sum().plot(kind='pie')"
   ]
  },
  {
   "cell_type": "code",
   "execution_count": 79,
   "id": "304709ab",
   "metadata": {},
   "outputs": [
    {
     "data": {
      "text/plain": [
       "vehicle_type\n",
       "Agricultural vehicle                       1032\n",
       "Bus or coach (17 or more pass seats)      11710\n",
       "Car                                      325922\n",
       "Goods 7.5 tonnes mgw and over              8770\n",
       "Goods over 3.5t. and under 7.5t            3404\n",
       "Minibus (8 - 16 passenger seats)           1088\n",
       "Motorcycle 125cc and under                 9109\n",
       "Motorcycle 50cc and under                  4945\n",
       "Motorcycle over 125cc and up to 500cc      4467\n",
       "Motorcycle over 500cc                     15151\n",
       "Other vehicle                              3329\n",
       "Pedal cycle                                  92\n",
       "Ridden horse                                  3\n",
       "Taxi/Private hire car                      7563\n",
       "Van / Goods 3.5 tonnes mgw or under       21298\n",
       "Name: number_of_casualties, dtype: int64"
      ]
     },
     "execution_count": 79,
     "metadata": {},
     "output_type": "execute_result"
    }
   ],
   "source": [
    "## Total casualties by vehicle type\n",
    "d.groupby('vehicle_type')['number_of_casualties'].sum()"
   ]
  },
  {
   "cell_type": "code",
   "execution_count": 88,
   "id": "91956763",
   "metadata": {},
   "outputs": [],
   "source": [
    "\n",
    "condition_mapping = {\n",
    "    'Agricultural vehicle': 'Agriculture',\n",
    "    'Bus or coach (17 or more pass seats)': 'Bus',\n",
    "    'Minibus (8 - 16 passenger seats)': 'Bus',\n",
    "    'Goods 7.5 tonnes mgw and over': 'van',\n",
    "    'Goods over 3.5t. and under 7.5t': 'van',\n",
    "    'Van / Goods 3.5 tonnes mgw or under':'van',\n",
    "    'Motorcycle 125cc and under':'Bike',\n",
    "    'Motorcycle 50cc and under':'Bike',\n",
    "    'Motorcycle over 125cc and up to 500cc':'Bike',\n",
    "    'Motorcycle over 500cc':'Bike',\n",
    "    'Other vehicle':'Others',\n",
    "    'Pedal cycle':'Others',\n",
    "    'Ridden horse':'Others',\n",
    "    'Car':'Car',\n",
    "    'Taxi/Private hire car':'Car'\n",
    "    \n",
    "}\n",
    "\n",
    "# Replace specific road surface conditions with their corresponding common label\n",
    "d['vehicle_type'] = d['vehicle_type'].replace(condition_mapping)\n"
   ]
  },
  {
   "cell_type": "code",
   "execution_count": 89,
   "id": "3327c2da",
   "metadata": {},
   "outputs": [
    {
     "data": {
      "text/plain": [
       "vehicle_type\n",
       "Agriculture      1032\n",
       "Bike            33672\n",
       "Bus             12798\n",
       "Car            333485\n",
       "Others           3424\n",
       "van             33472\n",
       "Name: number_of_casualties, dtype: int64"
      ]
     },
     "execution_count": 89,
     "metadata": {},
     "output_type": "execute_result"
    }
   ],
   "source": [
    "d.groupby('vehicle_type')['number_of_casualties'].sum()"
   ]
  },
  {
   "cell_type": "code",
   "execution_count": 90,
   "id": "ab6c99ee",
   "metadata": {},
   "outputs": [
    {
     "data": {
      "text/plain": [
       "<AxesSubplot:ylabel='vehicle_type'>"
      ]
     },
     "execution_count": 90,
     "metadata": {},
     "output_type": "execute_result"
    },
    {
     "data": {
      "image/png": "[encoded data removed]",
      "text/plain": [
       "<Figure size 432x288 with 1 Axes>"
      ]
     },
     "metadata": {
      "needs_background": "light"
     },
     "output_type": "display_data"
    }
   ],
   "source": [
    "d.groupby('vehicle_type')['number_of_casualties'].sum().plot.barh()"
   ]
  },
  {
   "cell_type": "code",
   "execution_count": 91,
   "id": "7300a468",
   "metadata": {},
   "outputs": [
    {
     "data": {
      "text/plain": [
       "light_conditions\n",
       "Darkness - lighting unknown      3829\n",
       "Darkness - lights lit           82167\n",
       "Darkness - lights unlit          1538\n",
       "Darkness - no lighting          25386\n",
       "Daylight                       304963\n",
       "Name: number_of_casualties, dtype: int64"
      ]
     },
     "execution_count": 91,
     "metadata": {},
     "output_type": "execute_result"
    }
   ],
   "source": [
    "\n",
    "### Total casualties by light conditions\n",
    "d.groupby('light_conditions')['number_of_casualties'].sum()"
   ]
  },
  {
   "cell_type": "code",
   "execution_count": 92,
   "id": "fc4d7043",
   "metadata": {},
   "outputs": [],
   "source": [
    "condition_mapping = {\n",
    "    'Darkness - lighting unknown': 'Dark',\n",
    "    'Darkness - lights lit': 'Dark',\n",
    "    'Darkness - lights unlit': 'Dark',\n",
    "    'Darkness - no lighting': 'Dark',\n",
    "    'Daylight': 'Daylight'\n",
    "}\n",
    "d['light_conditions'] = d['light_conditions'].replace(condition_mapping)"
   ]
  },
  {
   "cell_type": "code",
   "execution_count": 93,
   "id": "3a058788",
   "metadata": {},
   "outputs": [
    {
     "data": {
      "text/plain": [
       "light_conditions\n",
       "Dark        112920\n",
       "Daylight    304963\n",
       "Name: number_of_casualties, dtype: int64"
      ]
     },
     "execution_count": 93,
     "metadata": {},
     "output_type": "execute_result"
    }
   ],
   "source": [
    "d.groupby('light_conditions')['number_of_casualties'].sum()"
   ]
  },
  {
   "cell_type": "code",
   "execution_count": 94,
   "id": "2a54ee33",
   "metadata": {},
   "outputs": [
    {
     "data": {
      "text/plain": [
       "<AxesSubplot:ylabel='number_of_casualties'>"
      ]
     },
     "execution_count": 94,
     "metadata": {},
     "output_type": "execute_result"
    },
    {
     "data": {
      "image/png": "[encoded data removed]",
      "text/plain": [
       "<Figure size 432x288 with 1 Axes>"
      ]
     },
     "metadata": {},
     "output_type": "display_data"
    }
   ],
   "source": [
    "d.groupby('light_conditions')['number_of_casualties'].sum().plot(kind='pie')"
   ]
  },
  {
   "cell_type": "code",
   "execution_count": 96,
   "id": "5ba7e34c",
   "metadata": {},
   "outputs": [
    {
     "data": {
      "text/plain": [
       "0        2021-01-01\n",
       "1        2021-01-05\n",
       "2        2021-01-04\n",
       "3        2021-01-05\n",
       "4        2021-01-06\n",
       "            ...    \n",
       "307968   2022-02-18\n",
       "307969   2022-02-21\n",
       "307970   2022-02-23\n",
       "307971   2022-02-23\n",
       "307972   2022-02-28\n",
       "Name: accident_date, Length: 307973, dtype: datetime64[ns]"
      ]
     },
     "execution_count": 96,
     "metadata": {},
     "output_type": "execute_result"
    }
   ],
   "source": [
    "pd.to_datetime(d['accident_date'], format='%d-%m-%Y')"
   ]
  },
  {
   "cell_type": "code",
   "execution_count": 104,
   "id": "afa6c7b9",
   "metadata": {},
   "outputs": [],
   "source": [
    "d['accident_date'] = pd.to_datetime(d['accident_date'], errors='coerce', format='%d-%m-%Y')\n",
    "\n",
    "d['month'] = d['accident_date'].dt.month\n",
    "d['year'] = d['accident_date'].dt.year"
   ]
  },
  {
   "cell_type": "code",
   "execution_count": 105,
   "id": "8100e1da",
   "metadata": {},
   "outputs": [
    {
     "data": {
      "text/plain": [
       "year\n",
       "2021    222146\n",
       "2022    195737\n",
       "Name: number_of_casualties, dtype: int64"
      ]
     },
     "execution_count": 105,
     "metadata": {},
     "output_type": "execute_result"
    }
   ],
   "source": [
    "d.groupby('month')['number_of_casualties'].sum()\n",
    "d.groupby('year')['number_of_casualties'].sum()"
   ]
  },
  {
   "cell_type": "code",
   "execution_count": 106,
   "id": "447536e0",
   "metadata": {},
   "outputs": [
    {
     "data": {
      "text/plain": [
       "month\n",
       "1     31336\n",
       "2     29452\n",
       "3     34390\n",
       "4     33102\n",
       "5     35627\n",
       "6     35958\n",
       "7     36883\n",
       "8     35593\n",
       "9     35956\n",
       "10    38396\n",
       "11    39414\n",
       "12    31776\n",
       "Name: number_of_casualties, dtype: int64"
      ]
     },
     "execution_count": 106,
     "metadata": {},
     "output_type": "execute_result"
    }
   ],
   "source": [
    "d.groupby('month')['number_of_casualties'].sum()"
   ]
  },
  {
   "cell_type": "code",
   "execution_count": 115,
   "id": "eea3b129",
   "metadata": {},
   "outputs": [
    {
     "name": "stdout",
     "output_type": "stream",
     "text": [
      "accident_date\n",
      "1     18173\n",
      "2     14648\n",
      "3     17815\n",
      "4     17335\n",
      "5     18852\n",
      "6     18728\n",
      "7     19682\n",
      "8     18797\n",
      "9     18456\n",
      "10    20109\n",
      "11    20975\n",
      "12    18576\n",
      "Name: number_of_casualties, dtype: int64\n"
     ]
    }
   ],
   "source": [
    "\n",
    "desired_year = 2021\n",
    "\n",
    "# Filter the DataFrame for the desired year\n",
    "d_2021 = d[d['year'] == desired_year]\n",
    "#print(d_2021)\n",
    "monthly_casualties_2021 = d_2021.groupby(d_2021['accident_date'].dt.month)['number_of_casualties'].sum()\n",
    "\n",
    "# Print the result\n",
    "print(monthly_casualties_2021)"
   ]
  },
  {
   "cell_type": "code",
   "execution_count": 118,
   "id": "4955d6f3",
   "metadata": {},
   "outputs": [
    {
     "name": "stdout",
     "output_type": "stream",
     "text": [
      "accident_date\n",
      "1     13163\n",
      "2     14804\n",
      "3     16575\n",
      "4     15767\n",
      "5     16775\n",
      "6     17230\n",
      "7     17201\n",
      "8     16796\n",
      "9     17500\n",
      "10    18287\n",
      "11    18439\n",
      "12    13200\n",
      "Name: number_of_casualties, dtype: int64\n"
     ]
    }
   ],
   "source": [
    "desired_year = 2022\n",
    "\n",
    "# Filter the DataFrame for the desired year\n",
    "d_2022 = d[d['year'] == desired_year]\n",
    "#print(d_2021)\n",
    "monthly_casualties_2022 = d_2022.groupby(d_2022['accident_date'].dt.month)['number_of_casualties'].sum()\n",
    "\n",
    "# Print the result\n",
    "print(monthly_casualties_2022)"
   ]
  },
  {
   "cell_type": "code",
   "execution_count": 117,
   "id": "1deadf2d",
   "metadata": {},
   "outputs": [
    {
     "data": {
      "image/png": "[encoded data removed]",
      "text/plain": [
       "<Figure size 720x432 with 1 Axes>"
      ]
     },
     "metadata": {
      "needs_background": "light"
     },
     "output_type": "display_data"
    }
   ],
   "source": [
    "monthly_casualties_2021 = d_2021.groupby(d_2021['accident_date'].dt.month)['number_of_casualties'].sum()\n",
    "\n",
    "# Plot the result as a line plot\n",
    "monthly_casualties_2021.plot(kind='line', marker='o', figsize=(10, 6))\n",
    "plt.xlabel('Month')\n",
    "plt.ylabel('Total Casualties')\n",
    "plt.title('Total Casualties per Month in 2021')\n",
    "plt.grid(True)\n",
    "plt.xticks(range(1, 13))\n",
    "plt.show()"
   ]
  },
  {
   "cell_type": "code",
   "execution_count": 119,
   "id": "dcbe5aa7",
   "metadata": {},
   "outputs": [
    {
     "data": {
      "image/png": "[encoded data removed]",
      "text/plain": [
       "<Figure size 720x432 with 1 Axes>"
      ]
     },
     "metadata": {
      "needs_background": "light"
     },
     "output_type": "display_data"
    }
   ],
   "source": [
    "monthly_casualties_2022 = d_2022.groupby(d_2022['accident_date'].dt.month)['number_of_casualties'].sum()\n",
    "\n",
    "# Plot the result as a line plot\n",
    "monthly_casualties_2022.plot(kind='line', marker='o', figsize=(10, 6))\n",
    "plt.xlabel('Month')\n",
    "plt.ylabel('Total Casualties')\n",
    "plt.title('Total Casualties per Month in 2022')\n",
    "plt.grid(True)\n",
    "plt.xticks(range(1, 13))\n",
    "plt.show()"
   ]
  },
  {
   "cell_type": "code",
   "execution_count": 120,
   "id": "54363ec0",
   "metadata": {},
   "outputs": [
    {
     "data": {
      "image/png": "[encoded data removed]",
      "text/plain": [
       "<Figure size 432x288 with 1 Axes>"
      ]
     },
     "metadata": {
      "needs_background": "light"
     },
     "output_type": "display_data"
    }
   ],
   "source": [
    "import matplotlib.pyplot as plt\n",
    "\n",
    "# Assuming 'monthly_casualties_2021' and 'monthly_casualties_2022' are the Series containing casualties for 2021 and 2022 respectively\n",
    "\n",
    "# Plot the first line chart for 2021\n",
    "monthly_casualties_2021.plot(kind='line', marker='o', label='2021')\n",
    "\n",
    "# Plot the second line chart for 2021\n",
    "monthly_casualties_2022.plot(kind='line', marker='o', label='2022')\n",
    "\n",
    "# Add labels and title\n",
    "plt.xlabel('Month')\n",
    "plt.ylabel('Total Casualties')\n",
    "plt.title('Total Casualties per Month in 2021 and 2022')\n",
    "\n",
    "# Add legend\n",
    "plt.legend()\n",
    "\n",
    "# Show the plot\n",
    "plt.grid(True)\n",
    "plt.xticks(range(1, 13))  # Assuming you want the x-axis to show all months\n",
    "plt.show()\n"
   ]
  },
  {
   "cell_type": "code",
   "execution_count": null,
   "id": "9e056c43",
   "metadata": {},
   "outputs": [],
   "source": []
  }
 ],
 "metadata": {
  "kernelspec": {
   "display_name": "Python 3 (ipykernel)",
   "language": "python",
   "name": "python3"
  },
  "language_info": {
   "codemirror_mode": {
    "name": "ipython",
    "version": 3
   },
   "file_extension": ".py",
   "mimetype": "text/x-python",
   "name": "python",
   "nbconvert_exporter": "python",
   "pygments_lexer": "ipython3",
   "version": "3.9.12"
  }
 },
 "nbformat": 4,
 "nbformat_minor": 5
}
