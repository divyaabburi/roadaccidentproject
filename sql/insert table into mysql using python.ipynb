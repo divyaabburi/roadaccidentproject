{
 "cells": [
  {
   "cell_type": "code",
   "execution_count": 1,
   "id": "ae39e9cc",
   "metadata": {},
   "outputs": [
    {
     "name": "stdout",
     "output_type": "stream",
     "text": [
      "Requirement already satisfied: pandas in c:\\users\\divya\\anaconda3\\anaconda\\lib\\site-packages (1.4.2)\n",
      "Requirement already satisfied: sqlalchemy in c:\\users\\divya\\anaconda3\\anaconda\\lib\\site-packages (1.4.32)\n",
      "Requirement already satisfied: python-dateutil>=2.8.1 in c:\\users\\divya\\anaconda3\\anaconda\\lib\\site-packages (from pandas) (2.8.2)\n",
      "Requirement already satisfied: numpy>=1.18.5 in c:\\users\\divya\\anaconda3\\anaconda\\lib\\site-packages (from pandas) (1.21.5)\n",
      "Requirement already satisfied: pytz>=2020.1 in c:\\users\\divya\\anaconda3\\anaconda\\lib\\site-packages (from pandas) (2021.3)\n",
      "Requirement already satisfied: greenlet!=0.4.17 in c:\\users\\divya\\anaconda3\\anaconda\\lib\\site-packages (from sqlalchemy) (1.1.1)\n",
      "Requirement already satisfied: six>=1.5 in c:\\users\\divya\\anaconda3\\anaconda\\lib\\site-packages (from python-dateutil>=2.8.1->pandas) (1.16.0)\n",
      "Note: you may need to restart the kernel to use updated packages.\n"
     ]
    }
   ],
   "source": [
    "pip install pandas sqlalchemy\n"
   ]
  },
  {
   "cell_type": "code",
   "execution_count": 11,
   "id": "698f9777",
   "metadata": {},
   "outputs": [],
   "source": [
    "from sqlalchemy import create_engine\n"
   ]
  },
  {
   "cell_type": "code",
   "execution_count": 12,
   "id": "37011dda",
   "metadata": {},
   "outputs": [],
   "source": [
    "host = 'localhost'\n",
    "port = 3306 \n",
    "username = 'root'\n",
    "password = '8223'\n",
    "database_name = 'roadaccident'\n"
   ]
  },
  {
   "cell_type": "code",
   "execution_count": 13,
   "id": "25cd9916",
   "metadata": {},
   "outputs": [],
   "source": [
    "connection_string = f'mysql+pymysql://{username}:{password}@{host}:{port}/{database_name}'\n",
    "engine = create_engine(connection_string)\n"
   ]
  },
  {
   "cell_type": "code",
   "execution_count": 10,
   "id": "f588e9eb",
   "metadata": {},
   "outputs": [
    {
     "name": "stdout",
     "output_type": "stream",
     "text": [
      "Collecting pymysql\n",
      "  Downloading PyMySQL-1.1.0-py3-none-any.whl (44 kB)\n",
      "Installing collected packages: pymysql\n",
      "Successfully installed pymysql-1.1.0\n",
      "Note: you may need to restart the kernel to use updated packages.\n"
     ]
    }
   ],
   "source": [
    "pip install pymysql"
   ]
  },
  {
   "cell_type": "code",
   "execution_count": 17,
   "id": "1179ab8e",
   "metadata": {},
   "outputs": [
    {
     "name": "stdout",
     "output_type": "stream",
     "text": [
      "       accident_index accident_date day_of_week              junction_control  \\\n",
      "0           BS0000001    01-01-2021    Thursday      Give way or uncontrolled   \n",
      "1           BS0000002    05-01-2021      Monday      Give way or uncontrolled   \n",
      "2           BS0000003    04-01-2021      Sunday      Give way or uncontrolled   \n",
      "3           BS0000004    05-01-2021      Monday           Auto traffic signal   \n",
      "4           BS0000005    06-01-2021     Tuesday           Auto traffic signal   \n",
      "...               ...           ...         ...                           ...   \n",
      "307968      BS0307969    18-02-2022    Thursday  Data missing or out of range   \n",
      "307969      BS0307970    21-02-2022      Sunday  Data missing or out of range   \n",
      "307970      BS0307971    23-02-2022     Tuesday      Give way or uncontrolled   \n",
      "307971      BS0307972    23-02-2022     Tuesday      Give way or uncontrolled   \n",
      "307972      BS0307973    28-02-2022      Sunday      Give way or uncontrolled   \n",
      "\n",
      "                            junction_detail accident_severity  \\\n",
      "0                   T or staggered junction           Serious   \n",
      "1                                Crossroads           Serious   \n",
      "2                   T or staggered junction            Slight   \n",
      "3                   T or staggered junction           Serious   \n",
      "4                                Crossroads           Serious   \n",
      "...                                     ...               ...   \n",
      "307968  Not at junction or within 20 metres            Slight   \n",
      "307969  Not at junction or within 20 metres            Slight   \n",
      "307970              T or staggered junction            Slight   \n",
      "307971              T or staggered junction           Serious   \n",
      "307972              T or staggered junction           Serious   \n",
      "\n",
      "              light_conditions         local_authority   carriageway_hazards  \\\n",
      "0                     Daylight  Kensington and Chelsea                  None   \n",
      "1                     Daylight  Kensington and Chelsea                  None   \n",
      "2                     Daylight  Kensington and Chelsea                  None   \n",
      "3                     Daylight  Kensington and Chelsea                  None   \n",
      "4        Darkness - lights lit  Kensington and Chelsea                  None   \n",
      "...                        ...                     ...                   ...   \n",
      "307968                Daylight                Highland                  None   \n",
      "307969  Darkness - no lighting                Highland                  None   \n",
      "307970                Daylight                Highland                  None   \n",
      "307971  Darkness - no lighting                Highland                  None   \n",
      "307972                Daylight                Highland  Other object on road   \n",
      "\n",
      "        number_of_casualties  number_of_vehicles         police_force  \\\n",
      "0                          1                   2  Metropolitan Police   \n",
      "1                         11                   2  Metropolitan Police   \n",
      "2                          1                   2  Metropolitan Police   \n",
      "3                          1                   2  Metropolitan Police   \n",
      "4                          1                   2  Metropolitan Police   \n",
      "...                      ...                 ...                  ...   \n",
      "307968                     2                   1             Northern   \n",
      "307969                     1                   1             Northern   \n",
      "307970                     1                   3             Northern   \n",
      "307971                     1                   2             Northern   \n",
      "307972                     1                   1             Northern   \n",
      "\n",
      "       road_surface_conditions           road_type  speed_limit   time  \\\n",
      "0                          Dry      One way street           30  15:11   \n",
      "1                  Wet or damp  Single carriageway           30  10:59   \n",
      "2                          Dry  Single carriageway           30  14:19   \n",
      "3                 Frost or ice  Single carriageway           30  08:10   \n",
      "4                          Dry  Single carriageway           30  17:25   \n",
      "...                        ...                 ...          ...    ...   \n",
      "307968                     Dry  Single carriageway           60  07:00   \n",
      "307969            Frost or ice  Single carriageway           60  03:00   \n",
      "307970            Frost or ice  Single carriageway           30  09:38   \n",
      "307971             Wet or damp  Single carriageway           60  18:25   \n",
      "307972             Wet or damp    Dual carriageway           60  15:45   \n",
      "\n",
      "       urban_or_rural_area     weather_conditions           vehicle_type  \n",
      "0                    Urban     Fine no high winds                    Car  \n",
      "1                    Urban     Fine no high winds  Taxi/Private hire car  \n",
      "2                    Urban     Fine no high winds  Taxi/Private hire car  \n",
      "3                    Urban                  Other  Motorcycle over 500cc  \n",
      "4                    Urban     Fine no high winds                    Car  \n",
      "...                    ...                    ...                    ...  \n",
      "307968               Rural     Fine no high winds                    Car  \n",
      "307969               Rural     Fine no high winds                    Car  \n",
      "307970               Rural     Fine no high winds                    Car  \n",
      "307971               Rural     Fine no high winds  Motorcycle over 500cc  \n",
      "307972               Rural  Snowing no high winds                    Car  \n",
      "\n",
      "[307973 rows x 19 columns]\n"
     ]
    }
   ],
   "source": [
    "import pandas as pd\n",
    "d=pd.read_csv(r'C:\\Users\\divya\\Downloads\\final project\\sql\\rad.csv')\n",
    "print(d)"
   ]
  },
  {
   "cell_type": "code",
   "execution_count": 16,
   "id": "371981ba",
   "metadata": {},
   "outputs": [
    {
     "data": {
      "text/plain": [
       "307973"
      ]
     },
     "execution_count": 16,
     "metadata": {},
     "output_type": "execute_result"
    }
   ],
   "source": [
    "table_name='rad'\n",
    "d.to_sql(table_name, con=engine, index=False, if_exists='replace')"
   ]
  },
  {
   "cell_type": "code",
   "execution_count": null,
   "id": "9364bd83",
   "metadata": {},
   "outputs": [],
   "source": []
  }
 ],
 "metadata": {
  "kernelspec": {
   "display_name": "Python 3 (ipykernel)",
   "language": "python",
   "name": "python3"
  },
  "language_info": {
   "codemirror_mode": {
    "name": "ipython",
    "version": 3
   },
   "file_extension": ".py",
   "mimetype": "text/x-python",
   "name": "python",
   "nbconvert_exporter": "python",
   "pygments_lexer": "ipython3",
   "version": "3.9.12"
  }
 },
 "nbformat": 4,
 "nbformat_minor": 5
}
